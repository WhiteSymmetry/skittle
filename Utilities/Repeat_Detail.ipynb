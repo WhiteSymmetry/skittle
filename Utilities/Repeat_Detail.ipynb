{
 "metadata": {
  "name": "",
  "signature": "sha256:beb09fb3d6c0adb17b2cd691716a718d2eb82a91443b882cc25c8ff3b80101ff"
 },
 "nbformat": 3,
 "nbformat_minor": 0,
 "worksheets": [
  {
   "cells": [
    {
     "cell_type": "code",
     "collapsed": false,
     "input": [
      "from IPython.display import Image, display, HTML\n",
      "from IPython.html.widgets import interact\n",
      "Image(url='http://127.0.0.1:8000/browse/homo/sapiens/hg18/chrY-sample/data.png?graph=d&start=111100&scale=1&width=105')\n",
      "HTML('''<img src =\"http://127.0.0.1:8000/browse/homo/sapiens/hg18/chrY-sample/data.png?graph=n&start=1&scale=1&width=105\"\n",
      "     style=\"height:200px; image-rendering: pixelated \">''')"
     ],
     "language": "python",
     "metadata": {},
     "outputs": [
      {
       "html": [
        "<img src =\"http://127.0.0.1:8000/browse/homo/sapiens/hg18/chrY-sample/data.png?graph=n&start=1&scale=1&width=105\"\n",
        "     style=\"height:200px; image-rendering: pixelated \">"
       ],
       "metadata": {},
       "output_type": "pyout",
       "prompt_number": 2,
       "text": [
        "<IPython.core.display.HTML at 0x40d9a90>"
       ]
      }
     ],
     "prompt_number": 2
    },
    {
     "cell_type": "code",
     "collapsed": false,
     "input": [
      "def detail(start, scale=1, width=34, decoder=True):\n",
      "    scale = 2**(scale-1)\n",
      "    url = \"http://127.0.0.1:8000/browse/homo/sapiens/hg18/chrY-sample/data.png?graph=d&start=%i&scale=%i&width=%i&duplicateFirstColumn=%i\" % (start, scale, width, decoder)\n",
      "    display(HTML('<img src =\"' + url+ '\" style=\"height:20px; image-rendering: pixelated;\">'))\n",
      "    print(url)\n",
      "    \n",
      "    \n",
      "interact(detail,\n",
      "         start=(1, 720897,24),\n",
      "         scale=(1,10), \n",
      "         width=(0,200))"
     ],
     "language": "python",
     "metadata": {},
     "outputs": [
      {
       "html": [
        "<img src =\"http://127.0.0.1:8000/browse/homo/sapiens/hg18/chrY-sample/data.png?graph=d&start=360433&scale=1&width=83&duplicateFirstColumn=1\" style=\"height:20px; image-rendering: pixelated;\">"
       ],
       "metadata": {},
       "output_type": "display_data",
       "text": [
        "<IPython.core.display.HTML at 0x4179ef0>"
       ]
      },
      {
       "output_type": "stream",
       "stream": "stdout",
       "text": [
        "http://127.0.0.1:8000/browse/homo/sapiens/hg18/chrY-sample/data.png?graph=d&start=360433&scale=1&width=83&duplicateFirstColumn=1\n"
       ]
      }
     ],
     "prompt_number": 3
    },
    {
     "cell_type": "markdown",
     "metadata": {},
     "source": [
      "[Commit](https://github.com/josiahseaman/skittle/commit/8d8e3417d1e74e410b53d70e6a9deff973f07db3)\n",
      "Upon looking more deeply at Repeat Map, it does not look like it does what I thought it does.  First off, it starts all comparisons at a scaled offset +12.  This works well for stacking megaColumns without repeating the old offsets, but it means that offsets 1-11 are skipped on the left side of the graph.  That means no 3-mer and no 10.5bp alpha helix motif, both very important.  From looking at the red line drawn in javascript it looks like the first megacolumn is 24 pixels wide, not 12, but I can't find any algorithmic evidence of that.\n",
      "\n",
      "It's also important to note that while the scale grows exponentially to the right, the step size of the start position matches for an entire row.  That means on the far right, scale = 4096 but the steps between each pixel row (vertically oriented column) is only 24bp, much much less than one pixel.  This gets really interesting because wider widths are just calculated by squishing (avg) multiple 24bp rows together.  So we have an average of 4-8 samples of a sub-pixel shift in correlation.  The repeating pattern may simply be a single pixel boundary moving across or through an genomic region with a sudden nucleotide bias shift."
     ]
    },
    {
     "cell_type": "markdown",
     "metadata": {},
     "source": [
      "I found the code that adds the first megaColumn and covers offsets +1 to +11:\n",
      "\n",
      "```python\n",
      "#iterate horizontally within a mega-column\n",
      "        startingOffset = repeatMapState.skixelsPerSample / growthPower\n",
      "        if scale == 1:\n",
      "            startingOffset = 1\n",
      "        for offset in range(startingOffset, repeatMapState.skixelsPerSample):  # range 12 - 24 but indexing starts at 0\n",
      "```\n",
      "\n",
      "So normally it starts at 12, but scale == 1 is special cased to start at 1."
     ]
    },
    {
     "cell_type": "code",
     "collapsed": false,
     "input": [
      "detail(1, 1, 50)"
     ],
     "language": "python",
     "metadata": {},
     "outputs": [
      {
       "html": [
        "<img src =\"http://127.0.0.1:8000/browse/homo/sapiens/hg18/chrY-sample/data.png?graph=d&start=1&scale=1&width=50&duplicateFirstColumn=1\" style=\"height:20px; image-rendering: pixelated;\">"
       ],
       "metadata": {},
       "output_type": "display_data",
       "text": [
        "<IPython.core.display.HTML at 0x3cb1fd0>"
       ]
      },
      {
       "output_type": "stream",
       "stream": "stdout",
       "text": [
        "http://127.0.0.1:8000/browse/homo/sapiens/hg18/chrY-sample/data.png?graph=d&start=1&scale=1&width=50&duplicateFirstColumn=1\n"
       ]
      }
     ],
     "prompt_number": 3
    },
    {
     "cell_type": "code",
     "collapsed": false,
     "input": [
      "detail(1+65536, 1, 50)"
     ],
     "language": "python",
     "metadata": {},
     "outputs": [
      {
       "html": [
        "<img src =\"http://127.0.0.1:8000/browse/homo/sapiens/hg18/chrY-sample/data.png?graph=d&start=65537&scale=1&width=50&duplicateFirstColumn=1\" style=\"height:20px; image-rendering: pixelated;\">"
       ],
       "metadata": {},
       "output_type": "display_data",
       "text": [
        "<IPython.core.display.HTML at 0x3c0a5f8>"
       ]
      },
      {
       "output_type": "stream",
       "stream": "stdout",
       "text": [
        "http://127.0.0.1:8000/browse/homo/sapiens/hg18/chrY-sample/data.png?graph=d&start=65537&scale=1&width=50&duplicateFirstColumn=1\n"
       ]
      }
     ],
     "prompt_number": 4
    },
    {
     "cell_type": "code",
     "collapsed": false,
     "input": [
      "detail(2+65536*2, 1, 49)"
     ],
     "language": "python",
     "metadata": {},
     "outputs": [
      {
       "html": [
        "<img src =\"http://127.0.0.1:8000/browse/homo/sapiens/hg18/chrY-sample/data.png?graph=d&start=131074&scale=1&width=49&duplicateFirstColumn=1\" style=\"height:20px; image-rendering: pixelated;\">"
       ],
       "metadata": {},
       "output_type": "display_data",
       "text": [
        "<IPython.core.display.HTML at 0x3c0a7f0>"
       ]
      },
      {
       "output_type": "stream",
       "stream": "stdout",
       "text": [
        "http://127.0.0.1:8000/browse/homo/sapiens/hg18/chrY-sample/data.png?graph=d&start=131074&scale=1&width=49&duplicateFirstColumn=1\n"
       ]
      }
     ],
     "prompt_number": 5
    },
    {
     "cell_type": "heading",
     "level": 1,
     "metadata": {},
     "source": [
      "Research"
     ]
    },
    {
     "cell_type": "code",
     "collapsed": false,
     "input": [
      "Image(url='http://127.0.0.1:8000/browse/Homo/Sapiens/hg19/chr2/data.png?graph=m&start=15335425&scale=1&width=111')"
     ],
     "language": "python",
     "metadata": {},
     "outputs": [
      {
       "html": [
        "<img src=\"http://127.0.0.1:8000/browse/Homo/Sapiens/hg19/chr2/data.png?graph=m&start=15335425&scale=1&width=111\"/>"
       ],
       "metadata": {},
       "output_type": "pyout",
       "prompt_number": 10,
       "text": [
        "<IPython.core.display.Image at 0x3e51a58>"
       ]
      }
     ],
     "prompt_number": 10
    },
    {
     "cell_type": "markdown",
     "metadata": {},
     "source": [
      "Looks like light to dark is between column 134 and 145 at the point I'm looking at:\n",
      "Chr2: start 15335969"
     ]
    },
    {
     "cell_type": "code",
     "collapsed": false,
     "input": [
      "def detail(start, scale=1, width=34, decoder=True):\n",
      "    scale = 2**(scale-1)\n",
      "    start = 15335969\n",
      "    url = \"http://127.0.0.1:8000/browse/Homo/Sapiens/hg19/chr2/data.png?graph=d&start=%i&scale=%i&width=%i&duplicateFirstColumn=%i\" % (start, scale, width, decoder)\n",
      "    display(HTML('<img src =\"' + url+ '\" style=\"image-rendering: pixelated;\">'))\n",
      "    print(url)\n",
      "    \n",
      "    \n",
      "interact(detail,\n",
      "         start=(1, 720897,24),\n",
      "         scale=(1,10), \n",
      "         width=(0,200))"
     ],
     "language": "python",
     "metadata": {},
     "outputs": [
      {
       "html": [
        "<img src =\"http://127.0.0.1:8000/browse/Homo/Sapiens/hg19/chr2/data.png?graph=d&start=15335969&scale=1&width=137&duplicateFirstColumn=1\" style=\"image-rendering: pixelated;\">"
       ],
       "metadata": {},
       "output_type": "display_data",
       "text": [
        "<IPython.core.display.HTML at 0x41eb4e0>"
       ]
      },
      {
       "output_type": "stream",
       "stream": "stdout",
       "text": [
        "http://127.0.0.1:8000/browse/Homo/Sapiens/hg19/chr2/data.png?graph=d&start=15335969&scale=1&width=137&duplicateFirstColumn=1\n"
       ]
      }
     ],
     "prompt_number": 8
    },
    {
     "cell_type": "code",
     "collapsed": false,
     "input": [],
     "language": "python",
     "metadata": {},
     "outputs": []
    }
   ],
   "metadata": {}
  }
 ]
}